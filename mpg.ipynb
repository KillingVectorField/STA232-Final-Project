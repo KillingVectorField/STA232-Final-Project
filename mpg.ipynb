{
 "cells": [
  {
   "cell_type": "code",
   "execution_count": 1,
   "metadata": {},
   "outputs": [],
   "source": [
    "mpg<-read.table(\"auto-mpg.txt\",col.names = c(\"mpg\",\"cylinders\",\"displacement\",\"horsepower\",\"weight\",\"acceleration\",\"year\",\"origin\",\"name\"),colClasses = c(\"numeric\",\"integer\",\"numeric\",\"numeric\",\"numeric\",\"numeric\",\"integer\",\"factor\",\"character\"),na.strings = \"?\")"
   ]
  },
  {
   "cell_type": "code",
   "execution_count": 2,
   "metadata": {},
   "outputs": [
    {
     "ename": "ERROR",
     "evalue": "Error in eval(expr, envir, enclos): 找不到对象'lp100km'\n",
     "output_type": "error",
     "traceback": [
      "Error in eval(expr, envir, enclos): 找不到对象'lp100km'\nTraceback:\n"
     ]
    }
   ],
   "source": [
    "mpg$lp100km<-100*mpg$mpg*\n",
    "mpg<-mpg[c(1,10,2:9)]\n",
    "head(mpg)\n",
    "summary(mpg)"
   ]
  },
  {
   "cell_type": "code",
   "execution_count": null,
   "metadata": {},
   "outputs": [],
   "source": [
    "pairs(mpg[,1:9])"
   ]
  },
  {
   "cell_type": "code",
   "execution_count": null,
   "metadata": {},
   "outputs": [],
   "source": [
    "corrplot::corrplot(cor(na.omit(mpg[,1:8])))"
   ]
  },
  {
   "cell_type": "code",
   "execution_count": null,
   "metadata": {},
   "outputs": [],
   "source": [
    "summary(lm(lp100km~displacement+weight,data=mpg))"
   ]
  }
 ],
 "metadata": {
  "kernelspec": {
   "display_name": "R",
   "language": "R",
   "name": "ir"
  },
  "language_info": {
   "codemirror_mode": "r",
   "file_extension": ".r",
   "mimetype": "text/x-r-source",
   "name": "R",
   "pygments_lexer": "r",
   "version": "3.6.1"
  }
 },
 "nbformat": 4,
 "nbformat_minor": 2
}
