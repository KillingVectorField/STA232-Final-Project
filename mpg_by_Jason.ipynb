{
 "cells": [
  {
   "cell_type": "code",
   "execution_count": null,
   "metadata": {},
   "outputs": [],
   "source": [
    "mpg<-read.table(\"auto-mpg.txt\",col.names = c(\"mpg\",\"cylinders\",\"displacement\",\"horsepower\",\"weight\",\"acceleration\",\n",
    "                                             \"year\",\"origin\",\"name\"),colClasses = c(\"numeric\",\"integer\",\"numeric\",\n",
    "                                                                                    \"numeric\",\"numeric\",\"numeric\",\n",
    "                                                                                    \"integer\",\"factor\",\"character\"),\n",
    "                                                                                     na.strings = \"?\")\n",
    "str(mpg)\n",
    "summary(mpg)\n",
    "mpg[c(1,21,32),]    #read data"
   ]
  },
  {
   "cell_type": "markdown",
   "metadata": {},
   "source": [
    "There are 6 obs with `horsepower` missing. Since this is a small number comparing to $N=398$, we decide to omit the missing data."
   ]
  },
  {
   "cell_type": "code",
   "execution_count": null,
   "metadata": {},
   "outputs": [],
   "source": [
    "mpg<-na.omit(mpg)        #delete missing data"
   ]
  },
  {
   "cell_type": "code",
   "execution_count": null,
   "metadata": {},
   "outputs": [],
   "source": [
    "car::scatterplotMatrix(mpg[,-9])     #scatter plot matrix of data"
   ]
  },
  {
   "cell_type": "markdown",
   "metadata": {},
   "source": [
    "We first notice that the relationship between the response `mpg` and many predictors are somewhat curved (nonlinear). This suggests transformation of variables may be necessary."
   ]
  },
  {
   "cell_type": "code",
   "execution_count": null,
   "metadata": {},
   "outputs": [],
   "source": [
    "corrplot::corrplot(cor(mpg[,-c(8,9)]))   #correlation of data "
   ]
  },
  {
   "cell_type": "markdown",
   "metadata": {},
   "source": [
    "There are also strong correlations among the predictors, especially `cylinders`, `displacement`, `horsepower`, and `weight`. We further check the **Variance Inflation Factor**."
   ]
  },
  {
   "cell_type": "code",
   "execution_count": null,
   "metadata": {},
   "outputs": [],
   "source": [
    "car::vif(lm(mpg~cylinders+displacement+horsepower+weight+acceleration+year,data=mpg))   #check multilinearity"
   ]
  },
  {
   "cell_type": "markdown",
   "metadata": {},
   "source": [
    "Many of the predictors have a VIF greater than 10. For example, `displacement` can be predicted by other variables to a large extent. It is therefore necessary to do variable selection."
   ]
  },
  {
   "cell_type": "markdown",
   "metadata": {},
   "source": [
    "# Variable Transformation"
   ]
  },
  {
   "cell_type": "markdown",
   "metadata": {},
   "source": [
    "We first choose the transformation of predictors.This is meant to transform the predictors into **Multinormality**."
   ]
  },
  {
   "cell_type": "code",
   "execution_count": null,
   "metadata": {},
   "outputs": [],
   "source": [
    "summary(car::powerTransform(mpg[,3:6]))      #estimate transformation parameter for multinormal"
   ]
  },
  {
   "cell_type": "markdown",
   "metadata": {},
   "source": [
    "Since none of the predictors range over many orders of magnitude, we chose not to transform the predictors to maintain interpretability. However, from the scatter plot matrix, we see that there seems to be a nonlinear relationship between the response `mpg` and many of the predictors. We then use the Box-Cox transformation and try to find the $\\lambda$ that minimizes the $RSS(\\lambda)$ (Residual Sum of Squares). This is realized by the `MASS::boxcox()` function."
   ]
  },
  {
   "cell_type": "code",
   "execution_count": null,
   "metadata": {},
   "outputs": [],
   "source": [
    "car::inverseResponsePlot(lm(mpg~.,data=mpg[,-9]))"
   ]
  },
  {
   "cell_type": "code",
   "execution_count": null,
   "metadata": {},
   "outputs": [],
   "source": [
    "MASS::boxcox(lm(mpg~.,data=mpg[,-9]))      #box-cox transformation for response"
   ]
  },
  {
   "cell_type": "markdown",
   "metadata": {},
   "source": [
    "The estimated $\\hat \\lambda$ is -0.37. It is plausible to consider $\\lambda=0$, $\\lambda=-0.5$, or $\\lambda=-1$. Nonetheless, we preferred to use the transformation given by $\\lambda=-1$, namely $1/Y$, because it gives a very natural interpretation. Other than the US who uses $\\textbf {mpg}$, most areas use the unit $\\textbf {L/100km}$ for fuel consumption, which is just proportional to the inverse of its value in mpg."
   ]
  },
  {
   "cell_type": "code",
   "execution_count": null,
   "metadata": {},
   "outputs": [],
   "source": [
    "mpg$lp100km<-100/mpg$mpg*0.621371192*3.78541178\n",
    "#car::inverseResponsePlot(lm(lp100km~., data=mpg[,-c(1,9)]))  "
   ]
  },
  {
   "cell_type": "code",
   "execution_count": null,
   "metadata": {
    "scrolled": true
   },
   "outputs": [],
   "source": [
    "car::scatterplotMatrix(mpg[,-9])\n",
    "corrplot::corrplot(cor(mpg[,-c(8,9)]))"
   ]
  },
  {
   "cell_type": "markdown",
   "metadata": {},
   "source": [
    "We hereafter choose `lp100km` as the response variable instead of `mpg`."
   ]
  },
  {
   "cell_type": "markdown",
   "metadata": {},
   "source": [
    "# Variable Selection via Best Subset Regression"
   ]
  },
  {
   "cell_type": "code",
   "execution_count": null,
   "metadata": {},
   "outputs": [],
   "source": [
    "lm.subset<-leaps::regsubsets(lp100km~.,data=mpg[,-c(1,9)])\n",
    "#lm.subset<-leaps::regsubsets(lp100km~.,data=mpg[,c(2:5,10)])\n",
    "print(summary.subset<-summary(lm.subset))    #all subset regression "
   ]
  },
  {
   "cell_type": "code",
   "execution_count": null,
   "metadata": {},
   "outputs": [],
   "source": [
    "X<-as.matrix(cbind(mpg[,2:7],as.numeric(mpg$origin==2),as.numeric(mpg$origin==3)))\n",
    "subset.list<-list(4,c(4,6),c(3,4,6),c(3,4,6,7),c(3,4,5,6,7),c(1,3,4,5,6,7),c(1,2,3,4,6,7,8),1:8)"
   ]
  },
  {
   "cell_type": "markdown",
   "metadata": {},
   "source": [
    "5-fold CV"
   ]
  },
  {
   "cell_type": "code",
   "execution_count": null,
   "metadata": {},
   "outputs": [],
   "source": [
    "CV.kFolds<-function(subset,k){\n",
    "    Y<-mpg$lp100km\n",
    "    set.seed(5)\n",
    "    cvSplits<-caret::createFolds(mpg$lp100km,k=k)\n",
    "    e<-rep(0,nrow(mpg))\n",
    "    for (i in 1:k){\n",
    "        beta.i<-as.vector(lm(Y[-cvSplits[[i]]]~X[-cvSplits[[i]],subset])$coef)\n",
    "        #print(X[-cvSplits[[i]],subset])\n",
    "        #print(beta.i)\n",
    "        e[cvSplits[[i]]]<-Y[cvSplits[[i]]]-as.vector(cbind(rep(1,length(cvSplits[[i]])),X[cvSplits[[i]],subset])%*%beta.i)\n",
    "        #print(e)\n",
    "    }\n",
    "    \n",
    "    mean(e^2)\n",
    "}\n",
    "\n",
    "CV.kFolds<-Vectorize(CV.kFolds)\n",
    "CV.5folds<-CV.kFolds(subset.list,5)     #5-fold CV criterion for model selection"
   ]
  },
  {
   "cell_type": "code",
   "execution_count": null,
   "metadata": {
    "scrolled": true
   },
   "outputs": [],
   "source": [
    "#data.frame(adjr2=summary.subset$adjr2,cp=summary.subset$cp, bic=summary.subset$bic)\n",
    "display=cbind(as.data.frame(summary.subset$outmat),round(summary.subset$rsq,4),round(summary.subset$adjr2,4),\n",
    "              round(summary.subset$cp,4), round(summary.subset$bic,4),round(CV.5folds,4))\n",
    "colnames(display)[9:13]=c(\"R^2\",\"adj R^2\",\"Cp\",\"BIC\",\"5-fold CV\")\n",
    "display         #model selection result for different methods"
   ]
  },
  {
   "cell_type": "markdown",
   "metadata": {},
   "source": [
    "Therefore, the chosen model (based on BIC and 5-fold CV) is the one with three predictors: `horsepower`, `weight`, and `year`."
   ]
  },
  {
   "cell_type": "code",
   "execution_count": null,
   "metadata": {},
   "outputs": [],
   "source": [
    "summary(lm.chosen<-lm(lp100km~horsepower+weight+year,data=mpg))    #Chosen Model"
   ]
  },
  {
   "cell_type": "markdown",
   "metadata": {},
   "source": [
    "# Regression Diagnostic Based on the Chosen Model"
   ]
  },
  {
   "cell_type": "code",
   "execution_count": null,
   "metadata": {
    "scrolled": false
   },
   "outputs": [],
   "source": [
    "plot(lm.chosen,which=1:6)     #Regression Diagnostics"
   ]
  },
  {
   "cell_type": "markdown",
   "metadata": {},
   "source": [
    "Have a look at those observations with large studentized residuals or large cook distance, which are possible outliers."
   ]
  },
  {
   "cell_type": "code",
   "execution_count": null,
   "metadata": {},
   "outputs": [],
   "source": [
    "which(abs(rstudent(lm.chosen))>3)\n",
    "mpg[c(which(abs(rstudent(lm.chosen))>3),116),] \n",
    "lm.chosen$fitted.values[c(which(abs(rstudent(lm.chosen))>3),116)]    #outliers"
   ]
  },
  {
   "cell_type": "code",
   "execution_count": null,
   "metadata": {},
   "outputs": [],
   "source": [
    "plot(mpg$weight, rstandard(lm.chosen))\n",
    "abline(0,0)                  #standardized residuals plot"
   ]
  },
  {
   "cell_type": "code",
   "execution_count": null,
   "metadata": {},
   "outputs": [],
   "source": [
    "car::residualPlots(lm.chosen)  "
   ]
  },
  {
   "cell_type": "code",
   "execution_count": null,
   "metadata": {
    "scrolled": false
   },
   "outputs": [],
   "source": [
    "summary(lm.chosen.refit<-lm(lp100km~horsepower+weight+year,data=mpg[-c(which(abs(rstudent(lm.chosen))>3),116),]))\n",
    "plot(lm.chosen.refit,which=1:6)    #summary of chosen model"
   ]
  },
  {
   "cell_type": "markdown",
   "metadata": {},
   "source": [
    "# Analysis of Variance and Analysis of Covariance: Does `Origin` matter?"
   ]
  },
  {
   "cell_type": "code",
   "execution_count": null,
   "metadata": {
    "scrolled": false
   },
   "outputs": [],
   "source": [
    "summary(lm.origin.anova<-lm(lp100km~origin,data=mpg))\n",
    "anova(lm.origin.anova)   #anova"
   ]
  },
  {
   "cell_type": "markdown",
   "metadata": {},
   "source": [
    "It seems that the means of the fuel consumption do differ from different origins. However, after we consider other predictors in the model, origin no longer matters in terms of prediction."
   ]
  },
  {
   "cell_type": "code",
   "execution_count": null,
   "metadata": {},
   "outputs": [],
   "source": [
    "summary(lm.origin.ancova<-lm(lp100km~horsepower+year+weight+origin,data=mpg))\n",
    "anova(lm.origin.ancova)#ancova"
   ]
  },
  {
   "cell_type": "markdown",
   "metadata": {},
   "source": [
    "When given the other predictors, origin3 will now be insignificant. However, origin2 remains significant, which indicates that `origin=Europe` itself contributes to a lower fuel consumption. A possible explanation is that European cars focus more on fuel economy (becuase of higher fuel price in Europe), and engines made in Europe, especially German, deployed more advance technology that would save fuel."
   ]
  },
  {
   "cell_type": "markdown",
   "metadata": {},
   "source": [
    "# Principle Component Analysis"
   ]
  },
  {
   "cell_type": "code",
   "execution_count": null,
   "metadata": {},
   "outputs": [],
   "source": [
    "PCA<-prcomp(mpg[,2:7],scale. = TRUE)\n",
    "#PCA<-princomp(mpg[,2:7],cor = TRUE)\n",
    "summary(PCA)\n",
    "#PCA$loadings\n",
    "round(PCA$rotation,3)  #the coefficients of principle components on the origin predictors"
   ]
  },
  {
   "cell_type": "code",
   "execution_count": null,
   "metadata": {},
   "outputs": [],
   "source": [
    "PCA.z<-PCA$x\n",
    "PCA.z      #convert data into the score of principle components"
   ]
  },
  {
   "cell_type": "code",
   "execution_count": null,
   "metadata": {},
   "outputs": [],
   "source": [
    "lm.fit.pcr2<-lm(mpg$lp100km~1+PCA.z[,1]+PCA.z[,2])           #use first two components to do regression\n",
    "summary(lm.fit.pcr2)\n",
    "lm.fit.pcr3<-(lm(mpg$lp100km~1+PCA.z[,1]+PCA.z[,2]+PCA.z[,3]))\n",
    "summary(lm.fit.pcr3)                                         #use first three components to do regression"
   ]
  }
 ],
 "metadata": {
  "kernelspec": {
   "display_name": "R",
   "language": "R",
   "name": "ir"
  },
  "language_info": {
   "codemirror_mode": "r",
   "file_extension": ".r",
   "mimetype": "text/x-r-source",
   "name": "R",
   "pygments_lexer": "r",
   "version": "3.6.1"
  }
 },
 "nbformat": 4,
 "nbformat_minor": 2
}
